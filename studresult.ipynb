{
 "cells": [
  {
   "cell_type": "code",
   "execution_count": 1,
   "id": "cc296991",
   "metadata": {},
   "outputs": [],
   "source": [
    "stud={}\n",
    "with open(\"Desktop/gl.csv\",\"r\")as f:\n",
    " for line in f:\n",
    "        std=line.split(\",\")\n",
    "        Name=std[0]\n",
    "        Result=std[1].strip()\n",
    "        stud[Name]=Result"
   ]
  },
  {
   "cell_type": "code",
   "execution_count": 2,
   "id": "c2f18fe8",
   "metadata": {},
   "outputs": [
    {
     "data": {
      "text/plain": [
       "{'ï»¿Names': 'Results',\n",
       " 'ASH': 'pass',\n",
       " 'BROOK': 'fail',\n",
       " 'CALWIN': 'pass',\n",
       " 'DAVE': 'fail',\n",
       " 'ERIC': 'fail'}"
      ]
     },
     "execution_count": 2,
     "metadata": {},
     "output_type": "execute_result"
    }
   ],
   "source": [
    "stud"
   ]
  },
  {
   "cell_type": "code",
   "execution_count": 3,
   "id": "606d516a",
   "metadata": {},
   "outputs": [
    {
     "data": {
      "text/plain": [
       "'pass'"
      ]
     },
     "execution_count": 3,
     "metadata": {},
     "output_type": "execute_result"
    }
   ],
   "source": [
    "stud['ASH']"
   ]
  },
  {
   "cell_type": "code",
   "execution_count": null,
   "id": "b0817940",
   "metadata": {},
   "outputs": [],
   "source": []
  }
 ],
 "metadata": {
  "kernelspec": {
   "display_name": "Python 3",
   "language": "python",
   "name": "python3"
  },
  "language_info": {
   "codemirror_mode": {
    "name": "ipython",
    "version": 3
   },
   "file_extension": ".py",
   "mimetype": "text/x-python",
   "name": "python",
   "nbconvert_exporter": "python",
   "pygments_lexer": "ipython3",
   "version": "3.8.8"
  }
 },
 "nbformat": 4,
 "nbformat_minor": 5
}
